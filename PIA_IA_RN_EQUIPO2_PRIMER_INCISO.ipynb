{
  "nbformat": 4,
  "nbformat_minor": 0,
  "metadata": {
    "colab": {
      "provenance": [],
      "collapsed_sections": []
    },
    "kernelspec": {
      "name": "python3",
      "display_name": "Python 3"
    },
    "language_info": {
      "name": "python"
    }
  },
  "cells": [
    {
      "cell_type": "markdown",
      "source": [
        "Fernando Nieto Rios 1930885                                                        \n",
        "David Fernando Sustaita Zuñiga 1923518                                                                                                   \n",
        "Alejandro Guadalupe Flores Mendoza 1665530\n"
      ],
      "metadata": {
        "id": "AVJvwUGCSbL-"
      }
    },
    {
      "cell_type": "code",
      "source": [
        "# importar librerías \n",
        "import tensorflow as tf\n",
        "from tensorflow.keras import datasets, layers, models\n",
        "import matplotlib.pyplot as plt"
      ],
      "metadata": {
        "id": "t7uMo3haIPp4"
      },
      "execution_count": 178,
      "outputs": []
    },
    {
      "cell_type": "code",
      "execution_count": 179,
      "metadata": {
        "id": "u4zdGkHG9UqD"
      },
      "outputs": [],
      "source": [
        "import cv2\n",
        "import glob\n",
        "import matplotlib.pyplot as plt\n",
        "\n",
        "import tensorflow as tf\n",
        "from tensorflow import keras\n",
        "\n",
        "import numpy as np\n",
        "import matplotlib.pyplot as plt\n",
        "from sklearn.model_selection import train_test_split"
      ]
    },
    {
      "cell_type": "code",
      "source": [
        "imagenes_full=[]\n",
        "etiquetas_full =[]\n",
        "num = 0"
      ],
      "metadata": {
        "id": "f3FHLVvcIhok"
      },
      "execution_count": 180,
      "outputs": []
    },
    {
      "cell_type": "code",
      "source": [
        "for m in \"Ingenieria\":\n",
        "  path = glob.glob(\"/content/Ingenieria/\" + str(num) + \"/*.jpg\")\n",
        "  for n in path:\n",
        "    test_image = cv2.imread(n, cv2.IMREAD_GRAYSCALE)\n",
        "  \n",
        "    # Formato de imagen\n",
        "    img_resized = cv2.resize(test_image, (28, 28), interpolation=cv2.INTER_LINEAR)\n",
        "    img_resized = cv2.bitwise_not(img_resized)\n",
        "\n",
        "    #Guardar imagenes\n",
        "    imagenes_full.append(img_resized)\n",
        "    etiquetas_full.append(num)\n",
        "  num +=1"
      ],
      "metadata": {
        "id": "_ZdGYdVKIkL-"
      },
      "execution_count": 181,
      "outputs": []
    },
    {
      "cell_type": "code",
      "source": [
        "len(imagenes_full)\n"
      ],
      "metadata": {
        "colab": {
          "base_uri": "https://localhost:8080/"
        },
        "id": "BKnBh7bQJEGE",
        "outputId": "f12e89d6-f2a5-4057-85bd-1b1c2650fc30"
      },
      "execution_count": 182,
      "outputs": [
        {
          "output_type": "execute_result",
          "data": {
            "text/plain": [
              "290"
            ]
          },
          "metadata": {},
          "execution_count": 182
        }
      ]
    },
    {
      "cell_type": "code",
      "source": [
        "clas_names = [\"0\", \"1\", \"2\", \"3\", \"4\",\n",
        "              \"5\", \"6\", \"7\", \"8\", \"9\"]\n"
      ],
      "metadata": {
        "id": "5d8Gs4Y5IsKT"
      },
      "execution_count": 183,
      "outputs": []
    },
    {
      "cell_type": "code",
      "source": [
        "gde = len(imagenes_full)\n",
        "plt.imshow(imagenes_full[30], cmap='gray')\n",
        "print(gde)\n",
        "plt.xlabel(etiquetas_full[30])"
      ],
      "metadata": {
        "colab": {
          "base_uri": "https://localhost:8080/",
          "height": 314
        },
        "id": "H0QJm0P_IxIP",
        "outputId": "078ea8c8-bc15-4665-bdb9-56feda71ccff"
      },
      "execution_count": 184,
      "outputs": [
        {
          "output_type": "stream",
          "name": "stdout",
          "text": [
            "290\n"
          ]
        },
        {
          "output_type": "execute_result",
          "data": {
            "text/plain": [
              "Text(0.5, 0, '1')"
            ]
          },
          "metadata": {},
          "execution_count": 184
        },
        {
          "output_type": "display_data",
          "data": {
            "text/plain": [
              "<Figure size 432x288 with 1 Axes>"
            ],
            "image/png": "[encoded data removed]"
          },
          "metadata": {
            "needs_background": "light"
          }
        }
      ]
    },
    {
      "cell_type": "code",
      "source": [
        "y = np.array(etiquetas_full)\n",
        "X = np.array(imagenes_full, dtype=np.uint8)"
      ],
      "metadata": {
        "id": "O0G9n9aMKulo"
      },
      "execution_count": 185,
      "outputs": []
    },
    {
      "cell_type": "code",
      "source": [
        "train_X,test_X,train_Y,test_Y = train_test_split(X,y,test_size=0.2)\n",
        "print('Training data shape : ', train_X.shape, train_Y.shape)\n",
        "print('Testing data shape : ', test_X.shape, test_Y.shape)"
      ],
      "metadata": {
        "colab": {
          "base_uri": "https://localhost:8080/"
        },
        "id": "RuGlb-uaKxTN",
        "outputId": "7453c6f0-8ed7-4f4c-ada6-439541087294"
      },
      "execution_count": 186,
      "outputs": [
        {
          "output_type": "stream",
          "name": "stdout",
          "text": [
            "Training data shape :  (232, 28, 28) (232,)\n",
            "Testing data shape :  (58, 28, 28) (58,)\n"
          ]
        }
      ]
    },
    {
      "cell_type": "code",
      "source": [
        "train_X = train_X / 255.\n",
        "test_X = test_X / 255."
      ],
      "metadata": {
        "id": "cTmkda4QK0do"
      },
      "execution_count": 187,
      "outputs": []
    },
    {
      "cell_type": "code",
      "source": [
        "plt.figure(figsize=(10,10))\n",
        "for i in range(25):\n",
        "    plt.subplot(5,5,i+1)\n",
        "    plt.xticks([])\n",
        "    plt.yticks([])\n",
        "    plt.grid(False)\n",
        "    plt.imshow(train_X[i], cmap=plt.cm.binary)\n",
        "    plt.xlabel([train_Y[i]])\n",
        "plt.show()"
      ],
      "metadata": {
        "colab": {
          "base_uri": "https://localhost:8080/",
          "height": 589
        },
        "id": "DT5sY45XK4Di",
        "outputId": "cad0bbd4-1690-4fbf-c145-928d9da53ddb"
      },
      "execution_count": 188,
      "outputs": [
        {
          "output_type": "display_data",
          "data": {
            "text/plain": [
              "<Figure size 720x720 with 25 Axes>"
            ],
            "image/png": "[encoded data removed]"
          },
          "metadata": {}
        }
      ]
    },
    {
      "cell_type": "code",
      "source": [
        "model = keras.Sequential([\n",
        "    keras.layers.Flatten(input_shape=(28, 28)),\n",
        "    keras.layers.Dense(128, activation='relu'),\n",
        "    keras.layers.Dense(10, activation='softmax')\n",
        "])"
      ],
      "metadata": {
        "id": "lHWKjGy4K6VZ"
      },
      "execution_count": 189,
      "outputs": []
    },
    {
      "cell_type": "code",
      "source": [
        "model.compile(optimizer='adam',\n",
        "              loss='sparse_categorical_crossentropy',\n",
        "              metrics=['accuracy'])"
      ],
      "metadata": {
        "id": "FyZrCPKqK9gF"
      },
      "execution_count": 190,
      "outputs": []
    },
    {
      "cell_type": "code",
      "source": [
        "history = model.fit(train_X, train_Y, epochs=10, validation_data=(test_X, test_Y))"
      ],
      "metadata": {
        "colab": {
          "base_uri": "https://localhost:8080/"
        },
        "id": "eWYCwZknLAVN",
        "outputId": "d3579146-6585-4d19-821f-b07a143b3adb"
      },
      "execution_count": 191,
      "outputs": [
        {
          "output_type": "stream",
          "name": "stdout",
          "text": [
            "Epoch 1/10\n",
            "8/8 [==============================] - 1s 33ms/step - loss: 2.4612 - accuracy: 0.1207 - val_loss: 2.2535 - val_accuracy: 0.2241\n",
            "Epoch 2/10\n",
            "8/8 [==============================] - 0s 11ms/step - loss: 2.3918 - accuracy: 0.1810 - val_loss: 2.3117 - val_accuracy: 0.1724\n",
            "Epoch 3/10\n",
            "8/8 [==============================] - 0s 8ms/step - loss: 2.2660 - accuracy: 0.3319 - val_loss: 2.2718 - val_accuracy: 0.2759\n",
            "Epoch 4/10\n",
            "8/8 [==============================] - 0s 8ms/step - loss: 2.1960 - accuracy: 0.3966 - val_loss: 2.2091 - val_accuracy: 0.3276\n",
            "Epoch 5/10\n",
            "8/8 [==============================] - 0s 7ms/step - loss: 2.0876 - accuracy: 0.4698 - val_loss: 2.2200 - val_accuracy: 0.3621\n",
            "Epoch 6/10\n",
            "8/8 [==============================] - 0s 6ms/step - loss: 2.0056 - accuracy: 0.4871 - val_loss: 2.0973 - val_accuracy: 0.4483\n",
            "Epoch 7/10\n",
            "8/8 [==============================] - 0s 7ms/step - loss: 1.9776 - accuracy: 0.5129 - val_loss: 2.0693 - val_accuracy: 0.4483\n",
            "Epoch 8/10\n",
            "8/8 [==============================] - 0s 7ms/step - loss: 1.8490 - accuracy: 0.5302 - val_loss: 2.0768 - val_accuracy: 0.4310\n",
            "Epoch 9/10\n",
            "8/8 [==============================] - 0s 6ms/step - loss: 1.8281 - accuracy: 0.5474 - val_loss: 2.0464 - val_accuracy: 0.3966\n",
            "Epoch 10/10\n",
            "8/8 [==============================] - 0s 6ms/step - loss: 1.9061 - accuracy: 0.5733 - val_loss: 1.9820 - val_accuracy: 0.4655\n"
          ]
        }
      ]
    },
    {
      "cell_type": "code",
      "source": [
        "test_loss, test_acc = model.evaluate(test_X,  test_Y, verbose=2)\n",
        "\n",
        "print('\\nTest accuracy:', test_acc)"
      ],
      "metadata": {
        "colab": {
          "base_uri": "https://localhost:8080/"
        },
        "id": "JeFlofbFLHMI",
        "outputId": "fe2a3766-81a2-4770-fab1-fa7786f0977a"
      },
      "execution_count": 192,
      "outputs": [
        {
          "output_type": "stream",
          "name": "stdout",
          "text": [
            "2/2 - 0s - loss: 1.9820 - accuracy: 0.4655 - 33ms/epoch - 17ms/step\n",
            "\n",
            "Test accuracy: 0.4655172526836395\n"
          ]
        }
      ]
    },
    {
      "cell_type": "code",
      "source": [
        "plt.plot(history.history['accuracy'], label='accuracy')\n",
        "plt.plot(history.history['val_accuracy'], label = 'val_accuracy')\n",
        "plt.xlabel('Epoch')\n",
        "plt.ylabel('Accuracy')\n",
        "plt.ylim([0.1, 1])\n",
        "plt.legend(loc='lower right')\n",
        "\n",
        "test_loss, test_acc = model.evaluate(test_X,  test_Y, verbose=2)"
      ],
      "metadata": {
        "colab": {
          "base_uri": "https://localhost:8080/",
          "height": 300
        },
        "id": "8SNZ_XmQLJ5H",
        "outputId": "9feeb4aa-69b6-4903-aefa-630e2609952c"
      },
      "execution_count": 193,
      "outputs": [
        {
          "output_type": "stream",
          "name": "stdout",
          "text": [
            "2/2 - 0s - loss: 1.9820 - accuracy: 0.4655 - 21ms/epoch - 10ms/step\n"
          ]
        },
        {
          "output_type": "display_data",
          "data": {
            "text/plain": [
              "<Figure size 432x288 with 1 Axes>"
            ],
            "image/png": "[encoded data removed]"
          },
          "metadata": {
            "needs_background": "light"
          }
        }
      ]
    },
    {
      "cell_type": "code",
      "source": [
        "predictions = model.predict(test_X)"
      ],
      "metadata": {
        "colab": {
          "base_uri": "https://localhost:8080/"
        },
        "id": "_SL-uRi0LLys",
        "outputId": "dada3f5e-6269-40b4-caf8-040ed9eca86d"
      },
      "execution_count": 194,
      "outputs": [
        {
          "output_type": "stream",
          "name": "stdout",
          "text": [
            "2/2 [==============================] - 0s 5ms/step\n"
          ]
        }
      ]
    },
    {
      "cell_type": "markdown",
      "source": [
        "# ***`PRIMERA PREDICCION`***"
      ],
      "metadata": {
        "id": "DHZ7qVT1LPjr"
      }
    },
    {
      "cell_type": "code",
      "source": [
        "predictions[5]\n"
      ],
      "metadata": {
        "colab": {
          "base_uri": "https://localhost:8080/"
        },
        "id": "B6aM5Ae4LSyC",
        "outputId": "0d30d450-3523-4e28-f902-f561e256df26"
      },
      "execution_count": 195,
      "outputs": [
        {
          "output_type": "execute_result",
          "data": {
            "text/plain": [
              "array([0.09920378, 0.14209591, 0.08353267, 0.08319802, 0.11666234,\n",
              "       0.08463763, 0.08880042, 0.09796727, 0.08735342, 0.11654854],\n",
              "      dtype=float32)"
            ]
          },
          "metadata": {},
          "execution_count": 195
        }
      ]
    },
    {
      "cell_type": "code",
      "source": [
        "np.argmax(predictions[5])"
      ],
      "metadata": {
        "colab": {
          "base_uri": "https://localhost:8080/"
        },
        "id": "2r8aKHXDLXPn",
        "outputId": "90b6dd5a-3224-4a2a-a97c-14b51d9603e7"
      },
      "execution_count": 196,
      "outputs": [
        {
          "output_type": "execute_result",
          "data": {
            "text/plain": [
              "1"
            ]
          },
          "metadata": {},
          "execution_count": 196
        }
      ]
    },
    {
      "cell_type": "code",
      "source": [
        "test_Y[5]"
      ],
      "metadata": {
        "colab": {
          "base_uri": "https://localhost:8080/"
        },
        "id": "GLNrKTwRLY1G",
        "outputId": "ead27994-7c31-4529-f580-7e4132ced0a9"
      },
      "execution_count": 197,
      "outputs": [
        {
          "output_type": "execute_result",
          "data": {
            "text/plain": [
              "2"
            ]
          },
          "metadata": {},
          "execution_count": 197
        }
      ]
    },
    {
      "cell_type": "code",
      "source": [
        "plt.imshow(test_X[5])"
      ],
      "metadata": {
        "colab": {
          "base_uri": "https://localhost:8080/",
          "height": 282
        },
        "id": "2yfbxA8dLcWP",
        "outputId": "1e53f909-23db-4ec0-a235-9d8dc6760e66"
      },
      "execution_count": 198,
      "outputs": [
        {
          "output_type": "execute_result",
          "data": {
            "text/plain": [
              "<matplotlib.image.AxesImage at 0x7fb067e1b890>"
            ]
          },
          "metadata": {},
          "execution_count": 198
        },
        {
          "output_type": "display_data",
          "data": {
            "text/plain": [
              "<Figure size 432x288 with 1 Axes>"
            ],
            "image/png": "[encoded data removed]"
          },
          "metadata": {
            "needs_background": "light"
          }
        }
      ]
    },
    {
      "cell_type": "code",
      "source": [],
      "metadata": {
        "id": "V5VWkW93LcTZ"
      },
      "execution_count": null,
      "outputs": []
    },
    {
      "cell_type": "markdown",
      "source": [
        "# ***`SEGUNDA PREDICCION`***"
      ],
      "metadata": {
        "id": "zfMvedDfLgJF"
      }
    },
    {
      "cell_type": "code",
      "source": [
        "predictions[10]"
      ],
      "metadata": {
        "colab": {
          "base_uri": "https://localhost:8080/"
        },
        "id": "CDXpoAWvLjpb",
        "outputId": "8427e305-8dbf-4dd9-bc86-e7eb0ec641b1"
      },
      "execution_count": 199,
      "outputs": [
        {
          "output_type": "execute_result",
          "data": {
            "text/plain": [
              "array([0.07603021, 0.05602649, 0.05153928, 0.03717077, 0.05014073,\n",
              "       0.03067376, 0.53677887, 0.04512524, 0.06323082, 0.05328377],\n",
              "      dtype=float32)"
            ]
          },
          "metadata": {},
          "execution_count": 199
        }
      ]
    },
    {
      "cell_type": "code",
      "source": [
        "np.argmax(predictions[10])"
      ],
      "metadata": {
        "colab": {
          "base_uri": "https://localhost:8080/"
        },
        "id": "yyxveHV8LpFY",
        "outputId": "b8e9c766-e468-4d9f-afb5-40f7af2dbdd6"
      },
      "execution_count": 200,
      "outputs": [
        {
          "output_type": "execute_result",
          "data": {
            "text/plain": [
              "6"
            ]
          },
          "metadata": {},
          "execution_count": 200
        }
      ]
    },
    {
      "cell_type": "code",
      "source": [
        "test_Y[10]"
      ],
      "metadata": {
        "colab": {
          "base_uri": "https://localhost:8080/"
        },
        "id": "dO00DfmOLrgO",
        "outputId": "07d23656-15d8-4617-c697-471382e05ba8"
      },
      "execution_count": 201,
      "outputs": [
        {
          "output_type": "execute_result",
          "data": {
            "text/plain": [
              "6"
            ]
          },
          "metadata": {},
          "execution_count": 201
        }
      ]
    },
    {
      "cell_type": "code",
      "source": [
        "plt.imshow(test_X[10])"
      ],
      "metadata": {
        "colab": {
          "base_uri": "https://localhost:8080/",
          "height": 282
        },
        "id": "oPFpcxyCLtxp",
        "outputId": "4267a443-9270-4d69-ffb5-1f73f9d317f1"
      },
      "execution_count": 202,
      "outputs": [
        {
          "output_type": "execute_result",
          "data": {
            "text/plain": [
              "<matplotlib.image.AxesImage at 0x7fb06fe8d710>"
            ]
          },
          "metadata": {},
          "execution_count": 202
        },
        {
          "output_type": "display_data",
          "data": {
            "text/plain": [
              "<Figure size 432x288 with 1 Axes>"
            ],
            "image/png": "[encoded data removed]"
          },
          "metadata": {
            "needs_background": "light"
          }
        }
      ]
    },
    {
      "cell_type": "markdown",
      "source": [
        "# ***`TERCERA PREDICCION`***"
      ],
      "metadata": {
        "id": "MUM-L8StLvlk"
      }
    },
    {
      "cell_type": "code",
      "source": [
        "predictions[30]"
      ],
      "metadata": {
        "colab": {
          "base_uri": "https://localhost:8080/"
        },
        "id": "p3jA2V77Lycd",
        "outputId": "7c44e4f1-0e16-45c2-bd16-38b0be517e0b"
      },
      "execution_count": 204,
      "outputs": [
        {
          "output_type": "execute_result",
          "data": {
            "text/plain": [
              "array([0.07970216, 0.11094394, 0.04293381, 0.04316107, 0.05771276,\n",
              "       0.27257106, 0.06501298, 0.04967061, 0.1756014 , 0.10269027],\n",
              "      dtype=float32)"
            ]
          },
          "metadata": {},
          "execution_count": 204
        }
      ]
    },
    {
      "cell_type": "code",
      "source": [
        "np.argmax(predictions[30])"
      ],
      "metadata": {
        "colab": {
          "base_uri": "https://localhost:8080/"
        },
        "id": "X81p6CLGL5kj",
        "outputId": "a2941426-c191-4170-90aa-b3fec9b22d77"
      },
      "execution_count": 205,
      "outputs": [
        {
          "output_type": "execute_result",
          "data": {
            "text/plain": [
              "5"
            ]
          },
          "metadata": {},
          "execution_count": 205
        }
      ]
    },
    {
      "cell_type": "code",
      "source": [
        "test_Y[30]"
      ],
      "metadata": {
        "colab": {
          "base_uri": "https://localhost:8080/"
        },
        "id": "1jFkoGORL9er",
        "outputId": "e5ed661c-83ea-409f-deb3-123c25a323a7"
      },
      "execution_count": 207,
      "outputs": [
        {
          "output_type": "execute_result",
          "data": {
            "text/plain": [
              "5"
            ]
          },
          "metadata": {},
          "execution_count": 207
        }
      ]
    },
    {
      "cell_type": "code",
      "source": [
        "\n",
        "plt.imshow(test_X[30])"
      ],
      "metadata": {
        "colab": {
          "base_uri": "https://localhost:8080/",
          "height": 282
        },
        "id": "KfP1Pql_MAzd",
        "outputId": "3304fb79-a926-44db-aabd-5a94dad88c5e"
      },
      "execution_count": 208,
      "outputs": [
        {
          "output_type": "execute_result",
          "data": {
            "text/plain": [
              "<matplotlib.image.AxesImage at 0x7fb0685a5610>"
            ]
          },
          "metadata": {},
          "execution_count": 208
        },
        {
          "output_type": "display_data",
          "data": {
            "text/plain": [
              "<Figure size 432x288 with 1 Axes>"
            ],
            "image/png": "[encoded data removed]"
          },
          "metadata": {
            "needs_background": "light"
          }
        }
      ]
    },
    {
      "cell_type": "markdown",
      "source": [],
      "metadata": {
        "id": "M-j1TTsZLgF6"
      }
    }
  ]
}